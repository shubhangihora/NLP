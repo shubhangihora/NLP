{
 "cells": [
  {
   "cell_type": "markdown",
   "metadata": {},
   "source": [
    "### basic regular expression practice "
   ]
  },
  {
   "cell_type": "markdown",
   "metadata": {},
   "source": [
    "Operators and their description\n",
    "- .\t Matches with any single character except newline ‘\\n’\n",
    "- ?\t match 0 or 1 occurrence of the pattern to its left\n",
    "- '+'\t 1 or more occurrences of the pattern to its left\n",
    "- '*'\t 0 or more occurrences of the pattern to its left\n",
    "- \\w\t Matches with a alphanumeric character whereas \\W (upper case W) matches non alphanumeric character.\n",
    "- \\d\t  Matches with digits [0-9] and /D (upper case D) matches with non-digits.\n",
    "- \\s\t Matches with a single white space character (space, newline, return, tab, form) and \\S (upper case S) matches any non-white space character.\n",
    "- \\b\t boundary between word and non-word and /B is opposite of /b\n",
    "- [..]\t Matches any single character in a square bracket and [^..] matches any single character not in square bracket\n",
    "- \\\t It is used for special meaning characters like \\. to match a period or \\+ for plus sign.\n",
    "- ^ and ''$' match the start or end of the string respectively\n",
    "- {n,m}\t Matches at least n and at most m occurrences of preceding expression if we write it as {,m} then it will return at least any minimum occurrence to max m preceding expression.\n",
    "- a| b\t Matches either a or b\n",
    "- ( )\tGroups regular expressions and returns matched text\n",
    "- \\t, \\n, \\r\t Matches tab, newline, return"
   ]
  },
  {
   "cell_type": "code",
   "execution_count": 1,
   "metadata": {
    "collapsed": true
   },
   "outputs": [],
   "source": [
    "string = \"hi shu my name is shu\""
   ]
  },
  {
   "cell_type": "code",
   "execution_count": 2,
   "metadata": {
    "collapsed": true
   },
   "outputs": [],
   "source": [
    "import re"
   ]
  },
  {
   "cell_type": "code",
   "execution_count": 6,
   "metadata": {},
   "outputs": [
    {
     "name": "stdout",
     "output_type": "stream",
     "text": [
      "['h', 'i', ' ', 's', 'h', 'u', ' ', 'm', 'y', ' ', 'n', 'a', 'm', 'e', ' ', 'i', 's', ' ', 's', 'h', 'u']\n"
     ]
    }
   ],
   "source": [
    "result = re.findall(r'.', string)\n",
    "print(result) #prints spaces also"
   ]
  },
  {
   "cell_type": "code",
   "execution_count": 7,
   "metadata": {},
   "outputs": [
    {
     "name": "stdout",
     "output_type": "stream",
     "text": [
      "['h', 'i', 's', 'h', 'u', 'm', 'y', 'n', 'a', 'm', 'e', 'i', 's', 's', 'h', 'u']\n"
     ]
    }
   ],
   "source": [
    "result = re.findall(r'\\w', string)\n",
    "print(result) #doesnt print spaces "
   ]
  },
  {
   "cell_type": "code",
   "execution_count": 8,
   "metadata": {},
   "outputs": [
    {
     "name": "stdout",
     "output_type": "stream",
     "text": [
      "['hi', 'shu', 'my', 'name', 'is', 'shu']\n"
     ]
    }
   ],
   "source": [
    "result = re.findall(r'\\w+', string)\n",
    "print(result) #prints words"
   ]
  },
  {
   "cell_type": "code",
   "execution_count": 9,
   "metadata": {},
   "outputs": [
    {
     "name": "stdout",
     "output_type": "stream",
     "text": [
      "['hi', '', 'shu', '', 'my', '', 'name', '', 'is', '', 'shu', '']\n"
     ]
    }
   ],
   "source": [
    "result = re.findall(r'\\w*', string)\n",
    "print(result) #prints spaces also"
   ]
  },
  {
   "cell_type": "code",
   "execution_count": 10,
   "metadata": {},
   "outputs": [
    {
     "name": "stdout",
     "output_type": "stream",
     "text": [
      "['hi']\n"
     ]
    }
   ],
   "source": [
    "result = re.findall(r'^\\w+', string)\n",
    "print(result) #prints first word"
   ]
  },
  {
   "cell_type": "code",
   "execution_count": 12,
   "metadata": {},
   "outputs": [
    {
     "name": "stdout",
     "output_type": "stream",
     "text": [
      "['shu']\n"
     ]
    }
   ],
   "source": [
    "result = re.findall(r'\\w+$', string)\n",
    "print(result) #prints last word"
   ]
  },
  {
   "cell_type": "code",
   "execution_count": 13,
   "metadata": {},
   "outputs": [
    {
     "name": "stdout",
     "output_type": "stream",
     "text": [
      "['hi', 'sh', 'my', 'na', 'me', 'is', 'sh']\n"
     ]
    }
   ],
   "source": [
    "result = re.findall(r'\\w\\w', string)\n",
    "print(result) #prints two characters at a time"
   ]
  },
  {
   "cell_type": "code",
   "execution_count": 14,
   "metadata": {},
   "outputs": [
    {
     "name": "stdout",
     "output_type": "stream",
     "text": [
      "['hi', 'sh', 'my', 'na', 'is', 'sh']\n"
     ]
    }
   ],
   "source": [
    "result = re.findall(r'\\b\\w.', string)\n",
    "print(result) #prints first two characters of each word"
   ]
  },
  {
   "cell_type": "code",
   "execution_count": 15,
   "metadata": {
    "collapsed": true
   },
   "outputs": [],
   "source": [
    "email = \"shu@gmail.com, pooj@yahoo.co.uk, nitin@hotmail.in\""
   ]
  },
  {
   "cell_type": "code",
   "execution_count": 17,
   "metadata": {},
   "outputs": [
    {
     "name": "stdout",
     "output_type": "stream",
     "text": [
      "['@gmail', '@yahoo', '@hotmail']\n"
     ]
    }
   ],
   "source": [
    "result = re.findall(r'@\\w+', email)\n",
    "print(result)"
   ]
  },
  {
   "cell_type": "code",
   "execution_count": 24,
   "metadata": {},
   "outputs": [
    {
     "name": "stdout",
     "output_type": "stream",
     "text": [
      "['@gmail.com', '@yahoo.co.uk', '@hotmail.in']\n"
     ]
    }
   ],
   "source": [
    "result = re.findall(r'@\\w+.\\w+.\\w+', email)\n",
    "print(result)"
   ]
  },
  {
   "cell_type": "code",
   "execution_count": 29,
   "metadata": {},
   "outputs": [
    {
     "name": "stdout",
     "output_type": "stream",
     "text": [
      "['com', 'co', 'in']\n"
     ]
    }
   ],
   "source": [
    "result = re.findall(r'@\\w+.(\\w+)', email)\n",
    "print(result)"
   ]
  },
  {
   "cell_type": "code",
   "execution_count": 30,
   "metadata": {
    "collapsed": true
   },
   "outputs": [],
   "source": [
    "dates = \"shu 432-523 27-06-1997, pooj 234-234 01-06-1999, nitin 5-3-3435 29-05-1998\""
   ]
  },
  {
   "cell_type": "code",
   "execution_count": 32,
   "metadata": {},
   "outputs": [
    {
     "name": "stdout",
     "output_type": "stream",
     "text": [
      "['27-06-1997', '01-06-1999', '29-05-1998']\n"
     ]
    }
   ],
   "source": [
    "result = re.findall(r'\\d{2}-\\d{2}-\\d{4}', dates)\n",
    "print(result)"
   ]
  },
  {
   "cell_type": "code",
   "execution_count": 33,
   "metadata": {},
   "outputs": [
    {
     "name": "stdout",
     "output_type": "stream",
     "text": [
      "['1997', '1999', '1998']\n"
     ]
    }
   ],
   "source": [
    "result = re.findall(r'\\d{2}-\\d{2}-(\\d{4})', dates)\n",
    "print(result)"
   ]
  },
  {
   "cell_type": "code",
   "execution_count": 34,
   "metadata": {},
   "outputs": [
    {
     "name": "stdout",
     "output_type": "stream",
     "text": [
      "['ame', 'is']\n"
     ]
    }
   ],
   "source": [
    "result = re.findall(r'[aeiou]\\w+', string)\n",
    "print(result) #prints words starting w vowels but as also turned name into ame"
   ]
  },
  {
   "cell_type": "code",
   "execution_count": 36,
   "metadata": {},
   "outputs": [
    {
     "name": "stdout",
     "output_type": "stream",
     "text": [
      "['is']\n"
     ]
    }
   ],
   "source": [
    "result = re.findall(r'\\b[aeiou]\\w+', string)\n",
    "print(result) #prints words starting w vowels"
   ]
  },
  {
   "cell_type": "code",
   "execution_count": 37,
   "metadata": {},
   "outputs": [
    {
     "name": "stdout",
     "output_type": "stream",
     "text": [
      "['asdf', 'fjdk', 'afed', 'fjek', 'asdf', 'foo']\n"
     ]
    }
   ],
   "source": [
    "line = 'asdf fjdk;afed,fjek,asdf,foo' # String has multiple delimiters (\";\",\",\",\" \").\n",
    "result= re.split(r'[;,\\s]', line)\n",
    "print(result)"
   ]
  },
  {
   "cell_type": "code",
   "execution_count": 38,
   "metadata": {},
   "outputs": [
    {
     "name": "stdout",
     "output_type": "stream",
     "text": [
      "asdf fjdk afed fjek asdf foo\n"
     ]
    }
   ],
   "source": [
    "line = 'asdf fjdk;afed,fjek,asdf,foo' # String has multiple delimiters (\";\",\",\",\" \").\n",
    "result= re.sub(r'[;,\\s]', ' ', line)\n",
    "print(result)"
   ]
  }
 ],
 "metadata": {
  "kernelspec": {
   "display_name": "Python 3",
   "language": "python",
   "name": "python3"
  },
  "language_info": {
   "codemirror_mode": {
    "name": "ipython",
    "version": 3
   },
   "file_extension": ".py",
   "mimetype": "text/x-python",
   "name": "python",
   "nbconvert_exporter": "python",
   "pygments_lexer": "ipython3",
   "version": "3.6.2"
  }
 },
 "nbformat": 4,
 "nbformat_minor": 2
}
